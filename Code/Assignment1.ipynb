{
  "nbformat": 4,
  "nbformat_minor": 0,
  "metadata": {
    "colab": {
      "name": "Assignment1.ipynb",
      "provenance": [],
      "collapsed_sections": [],
      "authorship_tag": "ABX9TyNbY3n7beYT0YX65eaPM0U1",
      "include_colab_link": true
    },
    "kernelspec": {
      "name": "python3",
      "display_name": "Python 3"
    }
  },
  "cells": [
    {
      "cell_type": "markdown",
      "metadata": {
        "id": "view-in-github",
        "colab_type": "text"
      },
      "source": [
        "<a href=\"https://colab.research.google.com/github/Mousumi44/Algorithms/blob/main/Code/Assignment1.ipynb\" target=\"_parent\"><img src=\"https://colab.research.google.com/assets/colab-badge.svg\" alt=\"Open In Colab\"/></a>"
      ]
    },
    {
      "cell_type": "markdown",
      "metadata": {
        "id": "NkQDoy4Y3HhH"
      },
      "source": [
        "#Multiply"
      ]
    },
    {
      "cell_type": "code",
      "metadata": {
        "id": "_SsljhcQqjec"
      },
      "source": [
        "def multiply(y,z):\n",
        "  if z==0: \n",
        "    return 0\n",
        "  elif z==1:\n",
        "    return y\n",
        "  else:\n",
        "    product=0\n",
        "    while True:\n",
        "      product+=y\n",
        "      z-=1\n",
        "      if z==0: break\n",
        "    return product\n"
      ],
      "execution_count": null,
      "outputs": []
    },
    {
      "cell_type": "code",
      "metadata": {
        "colab": {
          "base_uri": "https://localhost:8080/"
        },
        "id": "1-VuiPAuslmf",
        "outputId": "1d30f892-2c3a-45e8-c286-e39c0c5a0a61"
      },
      "source": [
        "print(multiply(10,9))"
      ],
      "execution_count": null,
      "outputs": [
        {
          "output_type": "stream",
          "text": [
            "90\n"
          ],
          "name": "stdout"
        }
      ]
    },
    {
      "cell_type": "markdown",
      "metadata": {
        "id": "96KqBqyt3Lss"
      },
      "source": [
        "#K-th Largest Number"
      ]
    },
    {
      "cell_type": "code",
      "metadata": {
        "id": "3DmujgDG3N8j"
      },
      "source": [
        "def KthLargest(A, k):\n",
        "  '''\n",
        "  A: array with size n\n",
        "  1<=k<=n\n",
        "  '''\n",
        "  n=len(A)\n",
        "  for i in range(k):\n",
        "        for j in reversed(range(i,n-1)):\n",
        "            if A[j+1]>A[j]:\n",
        "                A[j], A[j+1] = A[j+1], A[j]\n",
        "\n",
        "  return A[k-1]"
      ],
      "execution_count": null,
      "outputs": []
    },
    {
      "cell_type": "code",
      "metadata": {
        "colab": {
          "base_uri": "https://localhost:8080/"
        },
        "id": "HGn8r4464GRP",
        "outputId": "0d663bdd-40c4-4061-f3b3-9ebda455a439"
      },
      "source": [
        "KthLargest(A=[5,2,4,6], k=4)"
      ],
      "execution_count": null,
      "outputs": [
        {
          "output_type": "execute_result",
          "data": {
            "text/plain": [
              "2"
            ]
          },
          "metadata": {
            "tags": []
          },
          "execution_count": 76
        }
      ]
    },
    {
      "cell_type": "markdown",
      "metadata": {
        "id": "nUtv-z0sedC9"
      },
      "source": [
        "#Bubble Sort (ascending)"
      ]
    },
    {
      "cell_type": "code",
      "metadata": {
        "id": "HflDw2m0ebz0"
      },
      "source": [
        "def bubbleSort(A):\n",
        "  n = len(A) \n",
        "  for i in range(n-1):\n",
        "    for j in range(n-1):\n",
        "      if A[j]>A[j+1]:\n",
        "        A[j], A[j+1] = A[j+1], A[j]"
      ],
      "execution_count": null,
      "outputs": []
    },
    {
      "cell_type": "code",
      "metadata": {
        "colab": {
          "base_uri": "https://localhost:8080/"
        },
        "id": "33U-ddDtfsM7",
        "outputId": "f8c78a08-da60-4b5d-f68a-ea7bf9774290"
      },
      "source": [
        "A=[5,2,4,6]\n",
        "bubbleSort(A)\n",
        "print(A)"
      ],
      "execution_count": null,
      "outputs": [
        {
          "output_type": "stream",
          "text": [
            "[2, 4, 5, 6]\n"
          ],
          "name": "stdout"
        }
      ]
    },
    {
      "cell_type": "markdown",
      "metadata": {
        "id": "x_hSca7SgAlh"
      },
      "source": [
        "#K-th largest from BubbleSort"
      ]
    },
    {
      "cell_type": "code",
      "metadata": {
        "id": "_pc5Vlbpf_z8"
      },
      "source": [
        "def kthLargest(A,k):\n",
        "  n = len(A) \n",
        "  for i in range(n-k-1):\n",
        "    for j in range(n-1):\n",
        "      if A[j]>A[j+1]:\n",
        "        A[j], A[j+1] = A[j+1], A[j]\n",
        "  return A[n-k]"
      ],
      "execution_count": null,
      "outputs": []
    },
    {
      "cell_type": "code",
      "metadata": {
        "colab": {
          "base_uri": "https://localhost:8080/"
        },
        "id": "kUVGbFo-gVMZ",
        "outputId": "6156e7c9-9cc6-4286-e858-3557f62d0437"
      },
      "source": [
        "A=[5,2,4,6]\n",
        "print(kthLargest(A,k=2))"
      ],
      "execution_count": null,
      "outputs": [
        {
          "output_type": "stream",
          "text": [
            "5\n"
          ],
          "name": "stdout"
        }
      ]
    },
    {
      "cell_type": "markdown",
      "metadata": {
        "id": "HJWzg3Jdhq3d"
      },
      "source": [
        "#Power-Iterative (x^y)"
      ]
    },
    {
      "cell_type": "code",
      "metadata": {
        "id": "I_usXiZ3hqXy"
      },
      "source": [
        "def powerIterative(x, y):\n",
        "  result = 1\n",
        "  while y>0:\n",
        "    if(y%2!=0):\n",
        "      result *= x\n",
        "      y -= 1\n",
        "    x = x*x\n",
        "    y = y//2\n",
        "    print(y)\n",
        "\n",
        "  return result"
      ],
      "execution_count": null,
      "outputs": []
    },
    {
      "cell_type": "code",
      "metadata": {
        "colab": {
          "base_uri": "https://localhost:8080/"
        },
        "id": "3tBFR2KGiSOl",
        "outputId": "409bac5c-e7b5-4987-da65-f762cc265733"
      },
      "source": [
        "print(powerIterative(5,7))"
      ],
      "execution_count": null,
      "outputs": [
        {
          "output_type": "stream",
          "text": [
            "3\n",
            "1\n",
            "0\n",
            "78125\n"
          ],
          "name": "stdout"
        }
      ]
    },
    {
      "cell_type": "markdown",
      "metadata": {
        "id": "00boACA0thkh"
      },
      "source": [
        "#Reverse String"
      ]
    },
    {
      "cell_type": "code",
      "metadata": {
        "id": "xFaOVVpjthC4"
      },
      "source": [
        "def reverseString(s):\n",
        "  left, right = 0, len(s)-1\n",
        "  while left<right:\n",
        "    s[left], s[right] = s[right], s[left]\n",
        "    left+=1\n",
        "    right-=1\n",
        "  return s"
      ],
      "execution_count": 102,
      "outputs": []
    },
    {
      "cell_type": "code",
      "metadata": {
        "colab": {
          "base_uri": "https://localhost:8080/"
        },
        "id": "qU3EOWfOt3Z_",
        "outputId": "191079e3-3a14-4624-b9d3-8cbedfc3188e"
      },
      "source": [
        "print(reverseString(['b','a','t']))"
      ],
      "execution_count": 103,
      "outputs": [
        {
          "output_type": "stream",
          "text": [
            "['t', 'a', 'b']\n"
          ],
          "name": "stdout"
        }
      ]
    },
    {
      "cell_type": "markdown",
      "metadata": {
        "id": "QY18ZKe2udBD"
      },
      "source": [
        "Recursive Reverse String"
      ]
    },
    {
      "cell_type": "code",
      "metadata": {
        "id": "NbK9dt_MucUM"
      },
      "source": [
        "def recursiveReverseString(s):\n",
        "  if len(s)==1:\n",
        "    return s\n",
        "  else:\n",
        "    mid = len(s)//2\n",
        "    left = recursiveReverseString(s[:mid])\n",
        "    right = recursiveReverseString(s[mid:len(s)])\n",
        "    return right+left"
      ],
      "execution_count": 114,
      "outputs": []
    },
    {
      "cell_type": "code",
      "metadata": {
        "colab": {
          "base_uri": "https://localhost:8080/"
        },
        "id": "eVevPZFVvGIR",
        "outputId": "775150d6-9a44-49c8-a088-2dcd7562d55d"
      },
      "source": [
        "print(recursiveReverseString(['b','a','t','a','m']))"
      ],
      "execution_count": 115,
      "outputs": [
        {
          "output_type": "stream",
          "text": [
            "['m', 'a', 't', 'a', 'b']\n"
          ],
          "name": "stdout"
        }
      ]
    }
  ]
}